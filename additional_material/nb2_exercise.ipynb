{
 "cells": [
  {
   "cell_type": "markdown",
   "metadata": {},
   "source": [
    "# 02 Notebook exercise:\n",
    "\n",
    "Consider the following boundary value problem for the 1D wave equation:\n",
    "\n",
    "\\begin{align}\n",
    "  \\frac{1}{c^2}\\frac{\\partial^2 u}{\\partial t^2}(x,t)-\\frac{\\partial^2 u}{\\partial x^2}(x,t)&=0, \\\\\n",
    "  u(0,t)=u(10,t)&= 0, \\\\\n",
    "  \\frac{\\partial u}{\\partial t}(x,0)&=0, \\\\\n",
    "  u(x,0)&=\n",
    "    \\begin{cases}\n",
    "      0, & 0 \\leq x < 4,\\\\\n",
    "      1, & 4 \\leq x \\leq 6,\\\\\n",
    "      0, & 6 < x \\leq 10.\n",
    "    \\end{cases}\n",
    "\\end{align}\n",
    "\n",
    "The initial state is illustrated in the figure below:"
   ]
  },
  {
   "cell_type": "markdown",
   "metadata": {},
   "source": [
    "<img src=\"figures/exact_solution.png\" width=\"450\" height=\"450\" align=\"center\"/>"
   ]
  },
  {
   "cell_type": "markdown",
   "metadata": {},
   "source": [
    "The exact solution can be written as:\n",
    "\\begin{equation}\n",
    " u(x,t)=\\sum_{n=1}^{\\infty}A_{n}\\sin\\left(\\frac{n\\pi x}{10}\\right)\\cos\\left(\\frac{n\\pi ct}{10}\\right),\n",
    "\\end{equation}\n",
    "where\n",
    "\\begin{equation}\n",
    "  A_n=\\frac{2}{n\\pi}\\left[\\cos\\left(\\frac{4n\\pi}{10}\\right)-\\cos\\left(\\frac{6n\\pi}{10}\\right)\\right].\n",
    "\\end{equation}"
   ]
  },
  {
   "cell_type": "markdown",
   "metadata": {},
   "source": [
    "A potential Devito implementation is outlined below:"
   ]
  },
  {
   "cell_type": "code",
   "execution_count": 1,
   "metadata": {},
   "outputs": [],
   "source": [
    "from numpy import sin, cos, pi, linspace, shape, zeros, mod\n",
    "\n",
    "import matplotlib.pyplot as plt\n",
    "\n",
    "# Global constants\n",
    "L = 10. # Define length of domain as a global variable\n",
    "N = 2000 # Number of terms in the Fourier sine series\n",
    "l = 1001 # Define number of points in domain\n",
    "c = 1.0 # Speed of sound\n",
    "\n",
    "x = linspace(0, L, l) # x axis for calling u(x, t) at given t\n",
    "\n",
    "# Calculate exact solution\n",
    "\n",
    "def u_e(x, t):\n",
    "    s = zeros(x.size)\n",
    "    for i in range(1,N+1):\n",
    "        s+=A_n(i)*sin(i*pi*x/L)*cos(i*pi*c*t/L)\n",
    "    return s\n",
    "\n",
    "def A_n(n):\n",
    "    const = 2/n/pi*(cos(4*n*pi/L)-cos(6*n*pi/L))\n",
    "    return const"
   ]
  },
  {
   "cell_type": "code",
   "execution_count": 2,
   "metadata": {},
   "outputs": [
    {
     "data": {
      "image/png": "[encoded data removed]",
      "text/plain": [
       "<Figure size 432x288 with 1 Axes>"
      ]
     },
     "metadata": {
      "needs_background": "light"
     },
     "output_type": "display_data"
    }
   ],
   "source": [
    "%matplotlib inline\n",
    "# Plot solution at a point T in time\n",
    "T = 0\n",
    "plt.plot(x, u_e(x, T))\n",
    "plt.xlabel('x')\n",
    "plt.ylabel('u(x,0)')\n",
    "plt.show()"
   ]
  },
  {
   "cell_type": "code",
   "execution_count": 3,
   "metadata": {},
   "outputs": [],
   "source": [
    "# Devito implementation\n",
    "\n",
    "time_order = 2\n",
    "space_order = 2"
   ]
  },
  {
   "cell_type": "code",
   "execution_count": 4,
   "metadata": {},
   "outputs": [],
   "source": [
    "\n",
    "\n",
    "# Required imports\n",
    "from devito import Grid, TimeFunction, Eq, solve, Operator\n",
    "\n",
    "# Define the grid/computational domain\n",
    "grid = Grid(shape=(l), extent=(L))\n",
    "t_s = grid.stepping_dim\n",
    "\n",
    "# Wavefield\n",
    "u = TimeFunction(name='u', grid=grid, time_order=time_order, space_order=space_order)\n",
    "\n",
    "dx = abs(x[1]-x[0])\n",
    "# Critical time-step\n",
    "dt = 0.004 # (dt < 0.42*dx/c)\n",
    "\n",
    "# Define the equation and boundary conditions\n",
    "pde = 1/c**2*u.dt2-u.dx2\n",
    "eq = Eq(u.forward, solve(pde, u.forward))\n",
    "bc = [Eq(u[t_s+1, 0], 0)]\n",
    "bc += [Eq(u[t_s+1, -1], 0)]\n",
    "\n",
    "# Set the initial conditions\n",
    "u0 = u_e(x, 0)\n",
    "u1 = u_e(x, dt)\n",
    "u.data[0,:] = u0\n",
    "u.data[1,:] = u1\n",
    "\n",
    "# Create the Devito Operator\n",
    "op = Operator([eq]+bc)"
   ]
  },
  {
   "cell_type": "code",
   "execution_count": 5,
   "metadata": {},
   "outputs": [
    {
     "name": "stderr",
     "output_type": "stream",
     "text": [
      "Operator `Kernel` ran in 0.01 s\n"
     ]
    },
    {
     "data": {
      "text/plain": [
       "PerformanceSummary([(PerfKey(name='section0', rank=None),\n",
       "                     PerfEntry(time=0.0009350000000000162, gflopss=0.0, gpointss=0.0, oi=0.0, ops=0, itershapes=[]))])"
      ]
     },
     "execution_count": 5,
     "metadata": {},
     "output_type": "execute_result"
    }
   ],
   "source": [
    "# Now lets run the operator\n",
    "op.apply(time_m=1, time_M=4999, dt=dt)"
   ]
  },
  {
   "cell_type": "code",
   "execution_count": 6,
   "metadata": {},
   "outputs": [
    {
     "data": {
      "image/png": "[encoded data removed]",
      "text/plain": [
       "<Figure size 432x288 with 1 Axes>"
      ]
     },
     "metadata": {
      "needs_background": "light"
     },
     "output_type": "display_data"
    }
   ],
   "source": [
    "%matplotlib inline\n",
    "# Let's plot some Devito results:\n",
    "plt.plot(x, u.data[mod(5000,3), :])\n",
    "plt.xlabel('x')\n",
    "plt.ylabel('u(x,t)')\n",
    "plt.show()"
   ]
  },
  {
   "cell_type": "markdown",
   "metadata": {},
   "source": [
    "Note that we can improve this result through using higher order schemes."
   ]
  }
 ],
 "metadata": {
  "kernelspec": {
   "display_name": "Python 3 (ipykernel)",
   "language": "python",
   "name": "python3"
  },
  "language_info": {
   "codemirror_mode": {
    "name": "ipython",
    "version": 3
   },
   "file_extension": ".py",
   "mimetype": "text/x-python",
   "name": "python",
   "nbconvert_exporter": "python",
   "pygments_lexer": "ipython3",
   "version": "3.9.0"
  }
 },
 "nbformat": 4,
 "nbformat_minor": 2
}
